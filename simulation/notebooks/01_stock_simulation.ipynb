{
 "cells": [
  {
   "cell_type": "markdown",
   "id": "b41355e6-3271-46c1-bddd-44a58cefc6b8",
   "metadata": {},
   "source": [
    "# Part 1 -  Simulating Stock\n",
    "\n",
    "This notebook details the process of creating a simulated dataset.\n",
    "\n",
    "This simulation models a distribution warehouse for a tech e-commerce website that acts as an intermediary between a large supplier and the end customer. \n",
    "\n",
    "The warehouse:\n",
    "\n",
    "- Purchases shipments in bulk from an upstream supplier.\n",
    "- Stores and manages the stock.\n",
    "- Fulfills customer orders through daily outbound deliveries.\n",
    "- Aims to balance utilization and delivery efficiency while keeping costs low.\n",
    "\n",
    "The simulation explores different stock replenishment strategies (scheduled vs. Just-in-Time) and tracks key perfomance metrics such as stock levels, unmet demand and shipment volumes. This reflects a common B2C logistics model where warehouses play critical roles in order fulfilment. \n",
    "\n",
    "Import the required modules:"
   ]
  },
  {
   "cell_type": "code",
   "execution_count": 1,
   "id": "d76a0193-f4b9-4e8f-84e3-b121bd074cfc",
   "metadata": {},
   "outputs": [],
   "source": [
    "# pandas dataframes:\n",
    "import pandas as pd\n",
    "# statistical distributions:\n",
    "import numpy as np\n",
    "from scipy import stats\n",
    "import math\n",
    "\n",
    "# keep the random variables constant\n",
    "np.random.seed(16)"
   ]
  },
  {
   "cell_type": "markdown",
   "id": "84ddee26-5f31-4b7a-ad92-393e156389f1",
   "metadata": {},
   "source": [
    "## Basic set-up\n",
    "\n",
    "First, we need to set up the basic parametres of the simulation, including:\n",
    "\n",
    "- The period over which the simulation runs\n",
    "- The products stocked in the warehouse\n",
    "- The number of warehouses in the network\n"
   ]
  },
  {
   "cell_type": "markdown",
   "id": "5a5509ce-b19a-4775-832b-0f792981ebdd",
   "metadata": {},
   "source": [
    "### Time period\n",
    "\n",
    "The period will start on the 1st January 2024 (which is conveniently a Monday), and run for one quarter or 90 days."
   ]
  },
  {
   "cell_type": "code",
   "execution_count": 2,
   "id": "2a7f3a5c-d730-400a-b099-31ab346ba893",
   "metadata": {},
   "outputs": [],
   "source": [
    "start_date = pd.to_datetime(\"2024-01-01\")\n",
    "dates = pd.date_range(start_date, periods=90)\n",
    "df_dates = pd.DataFrame({\"date\": dates})"
   ]
  },
  {
   "cell_type": "markdown",
   "id": "3e9768d2-9e76-4260-9fb1-de975552e5c5",
   "metadata": {},
   "source": [
    "### Products\n",
    "\n",
    "The products are items that will be sold and despatched from the warehouse. For the simulation, we will use product IDs. More information can be found in the products dimension table."
   ]
  },
  {
   "cell_type": "code",
   "execution_count": 3,
   "id": "9654c93f-727b-44aa-8b77-179cb6b415e9",
   "metadata": {},
   "outputs": [],
   "source": [
    "product_ids = [f\"P{str(i).zfill(3)}\" for i in range(1, 16)]\n",
    "df_products = pd.DataFrame({\"product_id\": product_ids})"
   ]
  },
  {
   "cell_type": "markdown",
   "id": "84775801-36e2-48ee-86eb-03df62aa5849",
   "metadata": {},
   "source": [
    "Cross join the two dataframes to get every combination of products and date, representing the inventory flow for each product on each day:"
   ]
  },
  {
   "cell_type": "code",
   "execution_count": 4,
   "id": "58775416-0c74-41a4-bac5-99daf234f97e",
   "metadata": {},
   "outputs": [],
   "source": [
    "df = df_dates.merge(df_products, how=\"cross\")"
   ]
  },
  {
   "cell_type": "markdown",
   "id": "eb97455e-14d9-469a-a41e-af9ad025384a",
   "metadata": {},
   "source": [
    "### Warehouses\n",
    "\n",
    "For simplicity, we will have one warehouse. This can be changed in the future to incorporate more warehouses:"
   ]
  },
  {
   "cell_type": "code",
   "execution_count": 5,
   "id": "8c909a60-3206-4f00-8a08-04ce5714232b",
   "metadata": {},
   "outputs": [],
   "source": [
    "df[\"warehouse_id\"] = \"WH1\""
   ]
  },
  {
   "cell_type": "markdown",
   "id": "e9f27001-9ca9-4046-8fbb-2531af43967b",
   "metadata": {},
   "source": [
    "### Additional set-up\n",
    "\n",
    "Initialize inbound units to zero:"
   ]
  },
  {
   "cell_type": "code",
   "execution_count": 6,
   "id": "9ebd7c8c-add8-4d0f-9dc6-fd2b17996a39",
   "metadata": {},
   "outputs": [],
   "source": [
    "df[\"inbound_units\"] = 0"
   ]
  },
  {
   "cell_type": "markdown",
   "id": "c0657320-c32e-4c15-8c57-9131755ad61e",
   "metadata": {},
   "source": [
    "Classify each product by how quickly it sells. The products that sell quickly are assigned lower product numbers:"
   ]
  },
  {
   "cell_type": "code",
   "execution_count": 7,
   "id": "d0f62af5-19b3-4b43-a2d6-0945ff84e180",
   "metadata": {},
   "outputs": [],
   "source": [
    "fast_movers = product_ids[0:5]\n",
    "medium_movers = product_ids[5:10]\n",
    "slow_movers = product_ids[10:]"
   ]
  },
  {
   "cell_type": "markdown",
   "id": "5155fe5a-8b61-443c-ada2-127ea1e62ba4",
   "metadata": {},
   "source": [
    "This method of classification resembles a simplified **ABC analysis** framework.\n",
    "\n",
    "In such a framework, goods that are expected to provide the majority of the revenue, the fast movers, are assigned to **class A**. These goods require the most frequent restocking. Goods with a moderate demand and contribute a moderate amount of revenue are classified as **class B**. In our simulation, these are the medium movers. Finally, **class C** goods are either low-value or infrequently ordered, these are represented by the slow movers."
   ]
  },
  {
   "cell_type": "markdown",
   "id": "0dea06f3-5351-45ba-8526-bd86759cea0c",
   "metadata": {},
   "source": [
    "## Inventory flow\n",
    "\n",
    "A key part of the simulation is **inventory flow** where products enter and leave the warehouse. For the purposes of the simulation, we will assume that each order is for one and only one item.\n",
    "\n",
    "Inventory flow can be modeled by considering:\n",
    "\n",
    "- Demand (customer orders for products).\n",
    "- Outbound items (how many products actually leave the warehouse).\n",
    "- Inbound items (how many items are delivered to the warehouse from the supplier).\n",
    "- Inventory level (how many items are left in the warehouse after inbound and outbound items are considered)"
   ]
  },
  {
   "cell_type": "markdown",
   "id": "81821b12-f5ed-4586-adfd-0a3890b33942",
   "metadata": {},
   "source": [
    "### Demand\n",
    "\n",
    "\n",
    "Simulate orders for each product. Every day, there will be a number of items ordered for each product.\n",
    "\n",
    "We can use different probability distributions to model different behaviours of base demand.\n",
    "\n",
    "- **Fast movers** (Class A) - Normal distribution (high and consistent demand).\n",
    "- **Medium movers** (Class B) - Poisson distribution (steady but lower demand). \n",
    "- **Slow movers** (Class C) - Negative binomial distribution (low and erratic demand)."
   ]
  },
  {
   "cell_type": "code",
   "execution_count": 8,
   "id": "932bf383-c9c8-4451-b562-df88d06e0a06",
   "metadata": {},
   "outputs": [],
   "source": [
    "def assign_group(row):\n",
    "    product_id = row[\"product_id\"]\n",
    "    if product_id in fast_movers:\n",
    "        return \"A\"\n",
    "    elif product_id in medium_movers:\n",
    "        return \"B\"\n",
    "    else:\n",
    "        return \"C\""
   ]
  },
  {
   "cell_type": "code",
   "execution_count": 9,
   "id": "b20ac707-e7aa-4304-805d-5311d7a45d93",
   "metadata": {},
   "outputs": [],
   "source": [
    "df[\"class\"] = df.apply(assign_group, axis=1)"
   ]
  },
  {
   "cell_type": "markdown",
   "id": "1b985aba-ee21-4d2b-ae4f-9471ca454f6c",
   "metadata": {},
   "source": [
    "For more variable demand, we can also modify the underlying base demand by adding noise with an additional normal distribution. \n",
    "\n",
    "Additionally, we can also add a chance of random demand spikes and dips, and demand that changes over the course of a month. This unpredictability reflects real-world scenarios and necessitates different approaches to find the optimal solution.\n",
    "\n",
    "First generate demand multiplier from the <code>date</code> column:"
   ]
  },
  {
   "cell_type": "code",
   "execution_count": 10,
   "id": "db7af5af-6e31-4a1f-bc10-61ecc0c4b51b",
   "metadata": {},
   "outputs": [],
   "source": [
    "def date_based_demand(date):\n",
    "    day = date.day\n",
    "    if day <= 7:\n",
    "    # higher demand at the start of the month\n",
    "        return np.random.normal(1.2, 0.05)\n",
    "    elif day >= 22:\n",
    "    # lower demand at the end of the month\n",
    "        return np.random.normal(0.7, 0.05)\n",
    "    else:\n",
    "        return 1"
   ]
  },
  {
   "cell_type": "code",
   "execution_count": 11,
   "id": "d79cd2cb-743f-4bff-9ef9-d8947f8dcd26",
   "metadata": {},
   "outputs": [],
   "source": [
    "distributions = pd.DataFrame()"
   ]
  },
  {
   "cell_type": "code",
   "execution_count": 12,
   "id": "8eb68965-8cb2-4fb6-bbd1-434632886738",
   "metadata": {},
   "outputs": [],
   "source": [
    "distributions[\"normal\"] = np.random.normal(loc=25, scale=5, size=1000)"
   ]
  },
  {
   "cell_type": "markdown",
   "id": "a5bed497-298a-4a5d-aa3a-f1f4804e8486",
   "metadata": {},
   "source": [
    "Use the date function in the larger <code>simulate_demand</code> function:"
   ]
  },
  {
   "cell_type": "code",
   "execution_count": 13,
   "id": "41ad4283-a89d-4aa6-a294-9652dd71a199",
   "metadata": {},
   "outputs": [],
   "source": [
    "def simulate_demand(row):\n",
    "    product_id = row[\"product_id\"]\n",
    "    date_multiplier = date_based_demand(row[\"date\"])\n",
    "    \n",
    "\n",
    "    # There is a chance to have a larger or smaller demand than normal\n",
    "    event_chance = np.random.rand()\n",
    "\n",
    "    if event_chance > 0.9:\n",
    "        demand_multiplier = 1.2\n",
    "    elif event_chance < 0.1:\n",
    "        demand_multiplier = 0.7\n",
    "    else:\n",
    "        demand_multiplier = 1\n",
    "\n",
    "    # simulate the demand using relevant distributions \n",
    "    if product_id in fast_movers:\n",
    "        base_demand = np.random.normal(loc=20, scale=8)\n",
    "        fluct_scale = 5\n",
    "    elif product_id in medium_movers:\n",
    "        base_demand = np.random.poisson(lam=9)\n",
    "        fluct_scale = 3\n",
    "    else:\n",
    "        base_demand = stats.nbinom.rvs(n=2, p=0.3)\n",
    "        fluct_scale = 1\n",
    "\n",
    "    # simulate random flucuations each day\n",
    "    fluctuation = np.random.normal(loc=0, scale=fluct_scale)\n",
    "    demand = int(max(0, base_demand * demand_multiplier * date_multiplier + fluctuation))\n",
    "\n",
    "    return demand\n"
   ]
  },
  {
   "cell_type": "code",
   "execution_count": 14,
   "id": "324363f7-5a36-4abf-acba-d4428a8bdfbc",
   "metadata": {},
   "outputs": [],
   "source": [
    "df[\"demand\"] = df.apply(simulate_demand, axis=1)"
   ]
  },
  {
   "cell_type": "markdown",
   "id": "73d48141-798a-4a2f-a536-1c1b8aefd136",
   "metadata": {},
   "source": [
    "Initialize the <code>actual_outbound</code> column to be equal to the demand."
   ]
  },
  {
   "cell_type": "code",
   "execution_count": 15,
   "id": "d803d1d6-d561-4dba-91c0-fe3a62d410e3",
   "metadata": {},
   "outputs": [],
   "source": [
    "df[\"actual_outbound\"] = df[\"demand\"]"
   ]
  },
  {
   "cell_type": "markdown",
   "id": "ef3d1f45-9873-4add-8658-13f0bdf66ba3",
   "metadata": {},
   "source": [
    "### Inbound stock\n",
    "Next, we need to model deliveries from the supplier to replenish the warehouse inventory.\n",
    "\n",
    "There are different stock replenishment strategies that vary on how often and how much stock is replinished in each cycle.\n",
    "\n",
    "We will be comparing two replenishment strategies:\n",
    "\n",
    "- Weekly scheduled deliveries.\n",
    "- Just-in-Time (JIT) deliveries.\n",
    "\n",
    "We will also consider **lead time**, the time it takes for an order to arrive at the warehouse after it has been ordered.\n",
    "\n",
    "#### Weekly deliveries\n",
    "\n",
    "**Weekly deliveries** are consolidated orders delivered on a weekly schedule. The amount ordered each week depends on the seven-day moving average on the order date, rounded up to the nearest 10 to simulate minimum orders. In the simulation, these orders will be placed every Friday and arrive after the lead time has passed (3 days by default).\n",
    "\n",
    "Weekly deliveries can combine many deliveries into a single larger delivery saving money and reducing the carbon footprint. However, they are less responsive to changes in demand and can lead to excess or insufficient stock incurring high storage costs or lost sales.\n",
    "\n",
    "#### Just-in-Time (JIT) deliveries\n",
    "\n",
    "**Just-in-Time delveries** are deliveries that are scheduled when the inventory of a product is running low, so new goods arrive when as they are needed. This strategy can reduce holding costs by keeping the inventory lean, but requires a reliable and responsive supplier with a short lead time to avoid stock outs.\n",
    "\n",
    "### Unmet demand\n",
    "\n",
    "In the simulation, if there are not enough products in the inventory to meet the demand for that day, these orders are not fulfiled."
   ]
  },
  {
   "cell_type": "code",
   "execution_count": 16,
   "id": "6acd4966-42ec-4e26-82f7-b46ead12998c",
   "metadata": {},
   "outputs": [],
   "source": [
    "def simulate_inventory(group, policy=\"weekly\", lead_time=3, restock_point_mod=0.35):\n",
    "\n",
    "    group = group.copy()\n",
    "\n",
    "    # Establish starting stock (buffer stock) based on ABC classification\n",
    "    item_class = group[\"class\"].iloc[0]\n",
    "    starting_stock_dict = {\"A\": 250, \"B\": 80, \"C\": 40}\n",
    "    inventory = starting_stock_dict.get(item_class)\n",
    "    reorder_point = starting_stock_dict.get(item_class) * restock_point_mod\n",
    "\n",
    "    # Initialize empty lists\n",
    "    inventory_list = []\n",
    "    actual_outbound_list = []\n",
    "    inbound_list = []\n",
    "    pending_orders = [] # contains tuples with date and quantity\n",
    "    stockout_list = []\n",
    "\n",
    "    # Calculate the seven-day rolling average for demand\n",
    "    group[\"seven_day_average\"] = group[\"demand\"].shift(1).rolling(window=7, min_periods=1).mean().round()\n",
    "\n",
    "    # iterate through the group\n",
    "    for index, row in group.iterrows():\n",
    "        \n",
    "        date = row[\"date\"]\n",
    "        demand = row[\"demand\"]\n",
    "        rolling_average = row[\"seven_day_average\"]\n",
    "\n",
    "        # 1. apply inbound orders in the inbound orders list if date matches\n",
    "        arrivals_today = [q for (d, q) in pending_orders if d == date]\n",
    "        inbound_today = sum(arrivals_today)\n",
    "        inventory += inbound_today\n",
    "        pending_orders = [(d, q) for (d, q) in pending_orders if d != date]\n",
    "\n",
    "        # 2. ship out orders equal to demand\n",
    "        actual_outbound = min(demand, inventory)\n",
    "        inventory -= actual_outbound\n",
    "\n",
    "        # prevent multiple orders when an order is inbound (checks if an order is scheduled at a time after current date)\n",
    "        has_pending_order = any(d > date for (d, _) in pending_orders)\n",
    "\n",
    "        # 3. replenishment logic\n",
    "        if  policy == \"JIT\":\n",
    "        # Every day check if stock is below \n",
    "            if inventory < reorder_point and not has_pending_order:\n",
    "                delivery_date = date + pd.Timedelta(days=lead_time)\n",
    "                pending_orders.append((delivery_date, starting_stock_dict.get(item_class)))\n",
    "\n",
    "        elif policy == \"weekly\" and date.dayofweek == 4:\n",
    "            # uses the rolling average for the week\n",
    "            if rolling_average and not pd.isna(rolling_average):\n",
    "                delivery_quantity = 7 * int(rolling_average)\n",
    "                # Simulate items being packed in groups of 10\n",
    "                packet_size = 10\n",
    "                total_packets = math.ceil(delivery_quantity / packet_size)\n",
    "                total_delivery = total_packets * packet_size\n",
    "                delivery_date = date + pd.Timedelta(days=lead_time)\n",
    "                # avoid over-stocking\n",
    "                if inventory < (1.5 * total_delivery):\n",
    "                    pending_orders.append((delivery_date, total_delivery))\n",
    "\n",
    "        inventory_list.append(inventory)\n",
    "        actual_outbound_list.append(actual_outbound)\n",
    "        inbound_list.append(inbound_today)\n",
    "        stockout_list.append(actual_outbound < demand)\n",
    "            \n",
    "                \n",
    "    group[\"inventory_level\"] = inventory_list\n",
    "    group[\"actual_outbound\"] = actual_outbound_list\n",
    "    group[\"inbound_units\"] = inbound_list\n",
    "    group[\"stockout_flag\"] = stockout_list\n",
    "    group[\"unmet_demand\"] = group[\"demand\"] - group[\"actual_outbound\"]\n",
    "\n",
    "    return group"
   ]
  },
  {
   "cell_type": "markdown",
   "id": "a42838d2-85e9-48d2-bd32-44df78613b0c",
   "metadata": {},
   "source": [
    "## Simulation\n",
    "\n",
    "With the demand already calculated, we can discover how well each replenishment strategy matches the predefined demand. We are interested in how well the warehouse can keep up with demand, as well as keeping a lean inventory to minimize storage costs:"
   ]
  },
  {
   "cell_type": "code",
   "execution_count": 17,
   "id": "d1d4f25c-024a-401e-aabf-a2e481487294",
   "metadata": {},
   "outputs": [],
   "source": [
    "weekly_df = df.groupby(['product_id', 'warehouse_id'], group_keys=False).apply(simulate_inventory, policy=\"weekly\")\n",
    "jit_df = df.groupby(['product_id', 'warehouse_id'], group_keys=False).apply(simulate_inventory, policy=\"JIT\")"
   ]
  },
  {
   "cell_type": "markdown",
   "id": "cb20d30e-9552-4f7c-b88d-d50ae3b4c72b",
   "metadata": {},
   "source": [
    "Aggregate the products by class, and examine the outbound deliveries and the inventory level:"
   ]
  },
  {
   "cell_type": "code",
   "execution_count": 18,
   "id": "cdf86086-1566-497d-84d6-48ef898eb39a",
   "metadata": {},
   "outputs": [
    {
     "data": {
      "text/html": [
       "<div>\n",
       "<style scoped>\n",
       "    .dataframe tbody tr th:only-of-type {\n",
       "        vertical-align: middle;\n",
       "    }\n",
       "\n",
       "    .dataframe tbody tr th {\n",
       "        vertical-align: top;\n",
       "    }\n",
       "\n",
       "    .dataframe thead tr th {\n",
       "        text-align: left;\n",
       "    }\n",
       "\n",
       "    .dataframe thead tr:last-of-type th {\n",
       "        text-align: right;\n",
       "    }\n",
       "</style>\n",
       "<table border=\"1\" class=\"dataframe\">\n",
       "  <thead>\n",
       "    <tr>\n",
       "      <th></th>\n",
       "      <th>demand</th>\n",
       "      <th>actual_outbound</th>\n",
       "      <th colspan=\"2\" halign=\"left\">inventory_level</th>\n",
       "      <th>unmet_demand</th>\n",
       "    </tr>\n",
       "    <tr>\n",
       "      <th></th>\n",
       "      <th>sum</th>\n",
       "      <th>sum</th>\n",
       "      <th>max</th>\n",
       "      <th>mean</th>\n",
       "      <th>sum</th>\n",
       "    </tr>\n",
       "    <tr>\n",
       "      <th>class</th>\n",
       "      <th></th>\n",
       "      <th></th>\n",
       "      <th></th>\n",
       "      <th></th>\n",
       "      <th></th>\n",
       "    </tr>\n",
       "  </thead>\n",
       "  <tbody>\n",
       "    <tr>\n",
       "      <th>A</th>\n",
       "      <td>8212</td>\n",
       "      <td>8039</td>\n",
       "      <td>297</td>\n",
       "      <td>126.0</td>\n",
       "      <td>173</td>\n",
       "    </tr>\n",
       "    <tr>\n",
       "      <th>B</th>\n",
       "      <td>3680</td>\n",
       "      <td>3606</td>\n",
       "      <td>122</td>\n",
       "      <td>54.0</td>\n",
       "      <td>74</td>\n",
       "    </tr>\n",
       "    <tr>\n",
       "      <th>C</th>\n",
       "      <td>1843</td>\n",
       "      <td>1816</td>\n",
       "      <td>87</td>\n",
       "      <td>37.0</td>\n",
       "      <td>27</td>\n",
       "    </tr>\n",
       "  </tbody>\n",
       "</table>\n",
       "</div>"
      ],
      "text/plain": [
       "      demand actual_outbound inventory_level        unmet_demand\n",
       "         sum             sum             max   mean          sum\n",
       "class                                                           \n",
       "A       8212            8039             297  126.0          173\n",
       "B       3680            3606             122   54.0           74\n",
       "C       1843            1816              87   37.0           27"
      ]
     },
     "execution_count": 18,
     "metadata": {},
     "output_type": "execute_result"
    }
   ],
   "source": [
    "weekly_df.groupby(\"class\").agg({\"demand\": \"sum\", \"actual_outbound\": \"sum\", \"inventory_level\": [\"max\", \"mean\"], \"unmet_demand\": \"sum\"}).round()"
   ]
  },
  {
   "cell_type": "markdown",
   "id": "0f85b198-31de-43c1-a31b-9647a664ac53",
   "metadata": {},
   "source": [
    "Total orders (weekly):"
   ]
  },
  {
   "cell_type": "code",
   "execution_count": 19,
   "id": "e6f1b9bb-a2f8-4592-b5ac-1228a5f95b1c",
   "metadata": {},
   "outputs": [
    {
     "data": {
      "text/plain": [
       "152"
      ]
     },
     "execution_count": 19,
     "metadata": {},
     "output_type": "execute_result"
    }
   ],
   "source": [
    "weekly_df[\"inbound_units\"].ne(0).sum()"
   ]
  },
  {
   "cell_type": "code",
   "execution_count": 20,
   "id": "7abe94eb-bb6f-466d-8abf-aba6e472c5ef",
   "metadata": {},
   "outputs": [
    {
     "data": {
      "text/html": [
       "<div>\n",
       "<style scoped>\n",
       "    .dataframe tbody tr th:only-of-type {\n",
       "        vertical-align: middle;\n",
       "    }\n",
       "\n",
       "    .dataframe tbody tr th {\n",
       "        vertical-align: top;\n",
       "    }\n",
       "\n",
       "    .dataframe thead tr th {\n",
       "        text-align: left;\n",
       "    }\n",
       "\n",
       "    .dataframe thead tr:last-of-type th {\n",
       "        text-align: right;\n",
       "    }\n",
       "</style>\n",
       "<table border=\"1\" class=\"dataframe\">\n",
       "  <thead>\n",
       "    <tr>\n",
       "      <th></th>\n",
       "      <th>demand</th>\n",
       "      <th>actual_outbound</th>\n",
       "      <th colspan=\"2\" halign=\"left\">inventory_level</th>\n",
       "      <th>unmet_demand</th>\n",
       "    </tr>\n",
       "    <tr>\n",
       "      <th></th>\n",
       "      <th>sum</th>\n",
       "      <th>sum</th>\n",
       "      <th>max</th>\n",
       "      <th>mean</th>\n",
       "      <th>sum</th>\n",
       "    </tr>\n",
       "    <tr>\n",
       "      <th>class</th>\n",
       "      <th></th>\n",
       "      <th></th>\n",
       "      <th></th>\n",
       "      <th></th>\n",
       "      <th></th>\n",
       "    </tr>\n",
       "  </thead>\n",
       "  <tbody>\n",
       "    <tr>\n",
       "      <th>A</th>\n",
       "      <td>8212</td>\n",
       "      <td>8212</td>\n",
       "      <td>324</td>\n",
       "      <td>156.0</td>\n",
       "      <td>0</td>\n",
       "    </tr>\n",
       "    <tr>\n",
       "      <th>B</th>\n",
       "      <td>3680</td>\n",
       "      <td>3625</td>\n",
       "      <td>92</td>\n",
       "      <td>44.0</td>\n",
       "      <td>55</td>\n",
       "    </tr>\n",
       "    <tr>\n",
       "      <th>C</th>\n",
       "      <td>1843</td>\n",
       "      <td>1722</td>\n",
       "      <td>50</td>\n",
       "      <td>23.0</td>\n",
       "      <td>121</td>\n",
       "    </tr>\n",
       "  </tbody>\n",
       "</table>\n",
       "</div>"
      ],
      "text/plain": [
       "      demand actual_outbound inventory_level        unmet_demand\n",
       "         sum             sum             max   mean          sum\n",
       "class                                                           \n",
       "A       8212            8212             324  156.0            0\n",
       "B       3680            3625              92   44.0           55\n",
       "C       1843            1722              50   23.0          121"
      ]
     },
     "execution_count": 20,
     "metadata": {},
     "output_type": "execute_result"
    }
   ],
   "source": [
    "jit_df.groupby(\"class\").agg({\"demand\": \"sum\", \"actual_outbound\": \"sum\",  \"inventory_level\": [\"max\", \"mean\"], \"unmet_demand\": \"sum\"}).round()"
   ]
  },
  {
   "cell_type": "markdown",
   "id": "c19c3a99-a380-4aa5-9137-353a1a49ff51",
   "metadata": {},
   "source": [
    "Total orders (JIT):"
   ]
  },
  {
   "cell_type": "code",
   "execution_count": 21,
   "id": "d12d6332-40c3-4361-a091-712127979f5e",
   "metadata": {},
   "outputs": [
    {
     "data": {
      "text/plain": [
       "116"
      ]
     },
     "execution_count": 21,
     "metadata": {},
     "output_type": "execute_result"
    }
   ],
   "source": [
    "jit_df[\"inbound_units\"].ne(0).sum()"
   ]
  },
  {
   "cell_type": "markdown",
   "id": "49c65b09-c9e6-4848-8be2-91b69fc09064",
   "metadata": {},
   "source": [
    "#### Missed orders\n",
    "\n",
    "In terms of missed orders, Just-in-Time Deliveries clearly outperform Weekly Deliveries for Class A goods which tend to have a high and consistent demand. Frequent targeted restocking ensures that inventory levels are adequate for demand, reducing the number of stockouts.\n",
    "\n",
    "In Class B, JIT performs better albeit by a smaller margin. This shows that the benefits of JIT depend on the predicatability and consistency of the demand.\n",
    "\n",
    "However, it is the opposite for Class C goods. Due to their more sporadic demand, Class C goods benefit more from weekly top-ups. This allows a small amount of buffer stock to absorb any sudden, unexpected demand. JIT deliveries may struggle to keep up without the buffer stock.\n",
    "\n",
    "These patterns show that no one replenishment strategy is the best, and the right strategy should be picked depending on the demand profile of the product. This supports the adoptation of a **hybrid strategy** where the replenishment method is specific to the product class. In this case, Class A best fits JIT and Class C weekly deliveries. As an intermediary class, both strategies perform similarily for Class B, however JIT has a small advantage. The correct strategy for this class may be on a product by product basis.\n",
    "\n",
    "#### Inventory level\n",
    "\n",
    "One of the clear advantages of JIT deliveries is the ability to maintain a leaner inventory, thereby reducing storage costs.\n",
    "\n",
    "Inventory utilization tends to lower under JIT compared to weekly deliveries except for Class A products, where both strategies are comparable due to high levels of turnover and replenishment. However, this comes at the expense of missed orders, particularly in Class C. In these cases, the cost of lost revenue likely outweighs the storage savings, especially when demand is irregular. This highlights the balance needed between minimizing held inventory and ensuring product availability, and supports the implementation of a hybrid delivery strategy to optimize overall efficiency.\n",
    "\n",
    "#### Number of orders\n",
    "\n",
    "Unexpectedly, there are more orders under a weekly strategy than under a JIT strategy. This may seem counter-inuitive, but the total number orders are not necessarily the same as the total number of deliveries. JIT orders are event driven and are triggered when the stock of a given item dips below a certain reorder point. On the other hand, weekly deliveries are time driven and occur on a set schedule. This means we may see numerous smaller deliveries spread out throughout the week under a JIT system, and larger consolidated deliveries happening at a set schedule under a weekly based one. We will examine this more closely in the warehouse analytics notebook."
   ]
  },
  {
   "cell_type": "markdown",
   "id": "2ad10167-0906-4a78-a878-52acdb34ab97",
   "metadata": {},
   "source": [
    "### Lead time\n",
    "\n",
    "It is important to consider lead time when choosing a replenishment strategy.\n",
    "\n",
    "#### Short lead time\n",
    "\n",
    "The effectiveness of JIT deliveries is highly dependent on having a short lead time. A responsive supply chain is essential for ensuring that shipments arrive just before inventory is depleted, effectively minimizing both holding costs and the risk of stock outs.\n",
    "\n",
    "Short lead times also benefit any scheduled deliveries that rely on forecasting (such as the seven-day moving average as in the simulation). In this case, a shorter lead time reduces the lag between when the forecast is made and when the shipment actually arrives, ensuring that replenishment is aligned with the current demand. \n",
    "\n",
    "We will investigate how the performance of both strategies is improved by reducing the lead time from 3 days to a single day:"
   ]
  },
  {
   "cell_type": "code",
   "execution_count": 22,
   "id": "1d28f3b8-dda4-4840-aa9b-35c13392e6f6",
   "metadata": {},
   "outputs": [],
   "source": [
    "short_weekly_df = df.groupby(['product_id', 'warehouse_id'], group_keys=False).apply(simulate_inventory, policy=\"weekly\", lead_time=1)\n",
    "short_jit_df = df.groupby(['product_id', 'warehouse_id'], group_keys=False).apply(simulate_inventory, policy=\"JIT\", lead_time=1)"
   ]
  },
  {
   "cell_type": "code",
   "execution_count": 23,
   "id": "b8bea790-e497-40ad-a9b7-7a8f61e6f7af",
   "metadata": {},
   "outputs": [
    {
     "data": {
      "text/html": [
       "<div>\n",
       "<style scoped>\n",
       "    .dataframe tbody tr th:only-of-type {\n",
       "        vertical-align: middle;\n",
       "    }\n",
       "\n",
       "    .dataframe tbody tr th {\n",
       "        vertical-align: top;\n",
       "    }\n",
       "\n",
       "    .dataframe thead tr th {\n",
       "        text-align: left;\n",
       "    }\n",
       "\n",
       "    .dataframe thead tr:last-of-type th {\n",
       "        text-align: right;\n",
       "    }\n",
       "</style>\n",
       "<table border=\"1\" class=\"dataframe\">\n",
       "  <thead>\n",
       "    <tr>\n",
       "      <th></th>\n",
       "      <th>demand</th>\n",
       "      <th>actual_outbound</th>\n",
       "      <th colspan=\"2\" halign=\"left\">inventory_level</th>\n",
       "      <th>unmet_demand</th>\n",
       "    </tr>\n",
       "    <tr>\n",
       "      <th></th>\n",
       "      <th>sum</th>\n",
       "      <th>sum</th>\n",
       "      <th>max</th>\n",
       "      <th>mean</th>\n",
       "      <th>sum</th>\n",
       "    </tr>\n",
       "    <tr>\n",
       "      <th>class</th>\n",
       "      <th></th>\n",
       "      <th></th>\n",
       "      <th></th>\n",
       "      <th></th>\n",
       "      <th></th>\n",
       "    </tr>\n",
       "  </thead>\n",
       "  <tbody>\n",
       "    <tr>\n",
       "      <th>A</th>\n",
       "      <td>8212</td>\n",
       "      <td>8170</td>\n",
       "      <td>311</td>\n",
       "      <td>149.0</td>\n",
       "      <td>42</td>\n",
       "    </tr>\n",
       "    <tr>\n",
       "      <th>B</th>\n",
       "      <td>3680</td>\n",
       "      <td>3660</td>\n",
       "      <td>128</td>\n",
       "      <td>68.0</td>\n",
       "      <td>20</td>\n",
       "    </tr>\n",
       "    <tr>\n",
       "      <th>C</th>\n",
       "      <td>1843</td>\n",
       "      <td>1838</td>\n",
       "      <td>87</td>\n",
       "      <td>45.0</td>\n",
       "      <td>5</td>\n",
       "    </tr>\n",
       "  </tbody>\n",
       "</table>\n",
       "</div>"
      ],
      "text/plain": [
       "      demand actual_outbound inventory_level        unmet_demand\n",
       "         sum             sum             max   mean          sum\n",
       "class                                                           \n",
       "A       8212            8170             311  149.0           42\n",
       "B       3680            3660             128   68.0           20\n",
       "C       1843            1838              87   45.0            5"
      ]
     },
     "execution_count": 23,
     "metadata": {},
     "output_type": "execute_result"
    }
   ],
   "source": [
    "short_weekly_df.groupby(\"class\").agg({\"demand\": \"sum\", \"actual_outbound\": \"sum\", \"inventory_level\": [\"max\", \"mean\"], \"unmet_demand\": \"sum\"}).round()"
   ]
  },
  {
   "cell_type": "code",
   "execution_count": 24,
   "id": "c666271a-7a3b-4e0c-bf5f-20135c12b22f",
   "metadata": {},
   "outputs": [
    {
     "data": {
      "text/html": [
       "<div>\n",
       "<style scoped>\n",
       "    .dataframe tbody tr th:only-of-type {\n",
       "        vertical-align: middle;\n",
       "    }\n",
       "\n",
       "    .dataframe tbody tr th {\n",
       "        vertical-align: top;\n",
       "    }\n",
       "\n",
       "    .dataframe thead tr th {\n",
       "        text-align: left;\n",
       "    }\n",
       "\n",
       "    .dataframe thead tr:last-of-type th {\n",
       "        text-align: right;\n",
       "    }\n",
       "</style>\n",
       "<table border=\"1\" class=\"dataframe\">\n",
       "  <thead>\n",
       "    <tr>\n",
       "      <th></th>\n",
       "      <th>demand</th>\n",
       "      <th>actual_outbound</th>\n",
       "      <th colspan=\"2\" halign=\"left\">inventory_level</th>\n",
       "      <th>unmet_demand</th>\n",
       "    </tr>\n",
       "    <tr>\n",
       "      <th></th>\n",
       "      <th>sum</th>\n",
       "      <th>sum</th>\n",
       "      <th>max</th>\n",
       "      <th>mean</th>\n",
       "      <th>sum</th>\n",
       "    </tr>\n",
       "    <tr>\n",
       "      <th>class</th>\n",
       "      <th></th>\n",
       "      <th></th>\n",
       "      <th></th>\n",
       "      <th></th>\n",
       "      <th></th>\n",
       "    </tr>\n",
       "  </thead>\n",
       "  <tbody>\n",
       "    <tr>\n",
       "      <th>A</th>\n",
       "      <td>8212</td>\n",
       "      <td>8212</td>\n",
       "      <td>331</td>\n",
       "      <td>191.0</td>\n",
       "      <td>0</td>\n",
       "    </tr>\n",
       "    <tr>\n",
       "      <th>B</th>\n",
       "      <td>3680</td>\n",
       "      <td>3680</td>\n",
       "      <td>105</td>\n",
       "      <td>59.0</td>\n",
       "      <td>0</td>\n",
       "    </tr>\n",
       "    <tr>\n",
       "      <th>C</th>\n",
       "      <td>1843</td>\n",
       "      <td>1834</td>\n",
       "      <td>53</td>\n",
       "      <td>28.0</td>\n",
       "      <td>9</td>\n",
       "    </tr>\n",
       "  </tbody>\n",
       "</table>\n",
       "</div>"
      ],
      "text/plain": [
       "      demand actual_outbound inventory_level        unmet_demand\n",
       "         sum             sum             max   mean          sum\n",
       "class                                                           \n",
       "A       8212            8212             331  191.0            0\n",
       "B       3680            3680             105   59.0            0\n",
       "C       1843            1834              53   28.0            9"
      ]
     },
     "execution_count": 24,
     "metadata": {},
     "output_type": "execute_result"
    }
   ],
   "source": [
    "short_jit_df.groupby(\"class\").agg({\"demand\": \"sum\", \"actual_outbound\": \"sum\", \"inventory_level\": [\"max\", \"mean\"], \"unmet_demand\": \"sum\"}).round()"
   ]
  },
  {
   "cell_type": "markdown",
   "id": "6fc5044e-591e-42f1-b2f7-249cf71e20ce",
   "metadata": {},
   "source": [
    "Reducing lead time significantly improves the efficiency of both replenishment strategies. With a shorter lead time, stock outs are reduced and demand is met more consistently. Missed orders are reduced by over 81%. With the weekly schedule strategy, this comes at the expense of carrying slightly more inventory, but this is a good trade-off in exchange for better item availability.\n",
    "\n",
    "The JIT strategy also benefits considerably from a shorter lead time with a 95% decrease in missed orders. It maintains a lean inventory while fully meeting the demand for Class A and Class B goods. Class C items also show improvement, but interestingly, the scheduled delivery still performs better. This highlights the robustness of time-based stock replacement when dealing with goods that have sporadic or low demand patterns.\n",
    "\n",
    "More generally, this shows the great benefits of having a responsive supply chain with a short lead time. Efficiency can be greatly increased by reducing the response time."
   ]
  },
  {
   "cell_type": "markdown",
   "id": "aeac6693-e6bd-4a0d-b436-07af41e5e8a9",
   "metadata": {},
   "source": [
    "#### Long lead time\n",
    "\n",
    "Conversely, an unresponsive supply chain with a long lead time significantly reduces the benefits of JIT deliveries. Stockouts are more likely to occur while the shipment is still in transit, especialy when demand is volatile or rising.\n",
    "\n",
    "This is also true for scheduled deliveries that make use of forecasting. The lag between when the forecast is made and the arrival of goods is larger, making the forecast less reliable. As a result, the quantity of goods may no longer reflect the actual demand by the time it arrives leading to excess stock or unmet demand.\n",
    "\n",
    "We can investigate the results of increasing the lead time from 3 days to 5 days:"
   ]
  },
  {
   "cell_type": "code",
   "execution_count": 25,
   "id": "cf345e17-cf3f-454c-a3b4-13bf8b4275fc",
   "metadata": {},
   "outputs": [],
   "source": [
    "long_weekly_df = df.groupby(['product_id', 'warehouse_id'], group_keys=False).apply(simulate_inventory, policy=\"weekly\", lead_time=5)\n",
    "long_jit_df = df.groupby(['product_id', 'warehouse_id'], group_keys=False).apply(simulate_inventory, policy=\"JIT\", lead_time=5)"
   ]
  },
  {
   "cell_type": "code",
   "execution_count": 26,
   "id": "070fef2c-3d56-46f4-a85a-5fac9ebb2670",
   "metadata": {},
   "outputs": [
    {
     "data": {
      "text/html": [
       "<div>\n",
       "<style scoped>\n",
       "    .dataframe tbody tr th:only-of-type {\n",
       "        vertical-align: middle;\n",
       "    }\n",
       "\n",
       "    .dataframe tbody tr th {\n",
       "        vertical-align: top;\n",
       "    }\n",
       "\n",
       "    .dataframe thead tr th {\n",
       "        text-align: left;\n",
       "    }\n",
       "\n",
       "    .dataframe thead tr:last-of-type th {\n",
       "        text-align: right;\n",
       "    }\n",
       "</style>\n",
       "<table border=\"1\" class=\"dataframe\">\n",
       "  <thead>\n",
       "    <tr>\n",
       "      <th></th>\n",
       "      <th>demand</th>\n",
       "      <th>actual_outbound</th>\n",
       "      <th colspan=\"2\" halign=\"left\">inventory_level</th>\n",
       "      <th>unmet_demand</th>\n",
       "    </tr>\n",
       "    <tr>\n",
       "      <th></th>\n",
       "      <th>sum</th>\n",
       "      <th>sum</th>\n",
       "      <th>max</th>\n",
       "      <th>mean</th>\n",
       "      <th>sum</th>\n",
       "    </tr>\n",
       "    <tr>\n",
       "      <th>class</th>\n",
       "      <th></th>\n",
       "      <th></th>\n",
       "      <th></th>\n",
       "      <th></th>\n",
       "      <th></th>\n",
       "    </tr>\n",
       "  </thead>\n",
       "  <tbody>\n",
       "    <tr>\n",
       "      <th>A</th>\n",
       "      <td>8212</td>\n",
       "      <td>7796</td>\n",
       "      <td>273</td>\n",
       "      <td>110.0</td>\n",
       "      <td>416</td>\n",
       "    </tr>\n",
       "    <tr>\n",
       "      <th>B</th>\n",
       "      <td>3680</td>\n",
       "      <td>3459</td>\n",
       "      <td>138</td>\n",
       "      <td>47.0</td>\n",
       "      <td>221</td>\n",
       "    </tr>\n",
       "    <tr>\n",
       "      <th>C</th>\n",
       "      <td>1843</td>\n",
       "      <td>1718</td>\n",
       "      <td>92</td>\n",
       "      <td>32.0</td>\n",
       "      <td>125</td>\n",
       "    </tr>\n",
       "  </tbody>\n",
       "</table>\n",
       "</div>"
      ],
      "text/plain": [
       "      demand actual_outbound inventory_level        unmet_demand\n",
       "         sum             sum             max   mean          sum\n",
       "class                                                           \n",
       "A       8212            7796             273  110.0          416\n",
       "B       3680            3459             138   47.0          221\n",
       "C       1843            1718              92   32.0          125"
      ]
     },
     "execution_count": 26,
     "metadata": {},
     "output_type": "execute_result"
    }
   ],
   "source": [
    "long_weekly_df.groupby(\"class\").agg({\"demand\": \"sum\", \"actual_outbound\": \"sum\", \"inventory_level\": [\"max\", \"mean\"], \"unmet_demand\": \"sum\"}).round()"
   ]
  },
  {
   "cell_type": "code",
   "execution_count": 27,
   "id": "ff1923b0-80cc-4c5f-a7ea-0da9e007022f",
   "metadata": {},
   "outputs": [
    {
     "data": {
      "text/html": [
       "<div>\n",
       "<style scoped>\n",
       "    .dataframe tbody tr th:only-of-type {\n",
       "        vertical-align: middle;\n",
       "    }\n",
       "\n",
       "    .dataframe tbody tr th {\n",
       "        vertical-align: top;\n",
       "    }\n",
       "\n",
       "    .dataframe thead tr th {\n",
       "        text-align: left;\n",
       "    }\n",
       "\n",
       "    .dataframe thead tr:last-of-type th {\n",
       "        text-align: right;\n",
       "    }\n",
       "</style>\n",
       "<table border=\"1\" class=\"dataframe\">\n",
       "  <thead>\n",
       "    <tr>\n",
       "      <th></th>\n",
       "      <th>demand</th>\n",
       "      <th>actual_outbound</th>\n",
       "      <th colspan=\"2\" halign=\"left\">inventory_level</th>\n",
       "      <th>unmet_demand</th>\n",
       "    </tr>\n",
       "    <tr>\n",
       "      <th></th>\n",
       "      <th>sum</th>\n",
       "      <th>sum</th>\n",
       "      <th>max</th>\n",
       "      <th>mean</th>\n",
       "      <th>sum</th>\n",
       "    </tr>\n",
       "    <tr>\n",
       "      <th>class</th>\n",
       "      <th></th>\n",
       "      <th></th>\n",
       "      <th></th>\n",
       "      <th></th>\n",
       "      <th></th>\n",
       "    </tr>\n",
       "  </thead>\n",
       "  <tbody>\n",
       "    <tr>\n",
       "      <th>A</th>\n",
       "      <td>8212</td>\n",
       "      <td>7919</td>\n",
       "      <td>263</td>\n",
       "      <td>124.0</td>\n",
       "      <td>293</td>\n",
       "    </tr>\n",
       "    <tr>\n",
       "      <th>B</th>\n",
       "      <td>3680</td>\n",
       "      <td>3285</td>\n",
       "      <td>84</td>\n",
       "      <td>34.0</td>\n",
       "      <td>395</td>\n",
       "    </tr>\n",
       "    <tr>\n",
       "      <th>C</th>\n",
       "      <td>1843</td>\n",
       "      <td>1550</td>\n",
       "      <td>49</td>\n",
       "      <td>18.0</td>\n",
       "      <td>293</td>\n",
       "    </tr>\n",
       "  </tbody>\n",
       "</table>\n",
       "</div>"
      ],
      "text/plain": [
       "      demand actual_outbound inventory_level        unmet_demand\n",
       "         sum             sum             max   mean          sum\n",
       "class                                                           \n",
       "A       8212            7919             263  124.0          293\n",
       "B       3680            3285              84   34.0          395\n",
       "C       1843            1550              49   18.0          293"
      ]
     },
     "execution_count": 27,
     "metadata": {},
     "output_type": "execute_result"
    }
   ],
   "source": [
    "long_jit_df.groupby(\"class\").agg({\"demand\": \"sum\", \"actual_outbound\": \"sum\", \"inventory_level\": [\"max\", \"mean\"], \"unmet_demand\": \"sum\"}).round()"
   ]
  },
  {
   "cell_type": "markdown",
   "id": "a1eefce8-b0e0-4205-bbd1-7530ca98e65a",
   "metadata": {},
   "source": [
    "Increasing the lead time results in worse performance under both strategies, but as expected, it has a bigger impact on JIT deliveries. With a longer lead time, replenishment arrives to late, resulting in multiple days of missed orders undermining the core efficiencies of the strategy."
   ]
  },
  {
   "cell_type": "markdown",
   "id": "d52eba78-6032-48bb-afd9-a82570d8717d",
   "metadata": {},
   "source": [
    "#### Restock point\n",
    "\n",
    "The problem of a long lead time can be addressed by raising the reorder point or by ordering safety stock to absorb unexpected demand.\n",
    "\n",
    "We can repeat the long lead time simulation, but this time we order replenishment stock at 50% inventory level rather than at 35%:  "
   ]
  },
  {
   "cell_type": "code",
   "execution_count": 28,
   "id": "04ea961a-ba6b-430e-8bbc-86dd4b406a64",
   "metadata": {},
   "outputs": [],
   "source": [
    "high_long_jit_df = df.groupby(['product_id', 'warehouse_id'], group_keys=False).apply(simulate_inventory, policy=\"JIT\", lead_time=5, restock_point_mod=0.5)"
   ]
  },
  {
   "cell_type": "code",
   "execution_count": 29,
   "id": "05a07641-ef76-4712-99e9-e9e9e51d57d9",
   "metadata": {},
   "outputs": [
    {
     "data": {
      "text/html": [
       "<div>\n",
       "<style scoped>\n",
       "    .dataframe tbody tr th:only-of-type {\n",
       "        vertical-align: middle;\n",
       "    }\n",
       "\n",
       "    .dataframe tbody tr th {\n",
       "        vertical-align: top;\n",
       "    }\n",
       "\n",
       "    .dataframe thead tr th {\n",
       "        text-align: left;\n",
       "    }\n",
       "\n",
       "    .dataframe thead tr:last-of-type th {\n",
       "        text-align: right;\n",
       "    }\n",
       "</style>\n",
       "<table border=\"1\" class=\"dataframe\">\n",
       "  <thead>\n",
       "    <tr>\n",
       "      <th></th>\n",
       "      <th>demand</th>\n",
       "      <th>actual_outbound</th>\n",
       "      <th colspan=\"2\" halign=\"left\">inventory_level</th>\n",
       "      <th>unmet_demand</th>\n",
       "    </tr>\n",
       "    <tr>\n",
       "      <th></th>\n",
       "      <th>sum</th>\n",
       "      <th>sum</th>\n",
       "      <th>max</th>\n",
       "      <th>mean</th>\n",
       "      <th>sum</th>\n",
       "    </tr>\n",
       "    <tr>\n",
       "      <th>class</th>\n",
       "      <th></th>\n",
       "      <th></th>\n",
       "      <th></th>\n",
       "      <th></th>\n",
       "      <th></th>\n",
       "    </tr>\n",
       "  </thead>\n",
       "  <tbody>\n",
       "    <tr>\n",
       "      <th>A</th>\n",
       "      <td>8212</td>\n",
       "      <td>8177</td>\n",
       "      <td>335</td>\n",
       "      <td>157.0</td>\n",
       "      <td>35</td>\n",
       "    </tr>\n",
       "    <tr>\n",
       "      <th>B</th>\n",
       "      <td>3680</td>\n",
       "      <td>3525</td>\n",
       "      <td>98</td>\n",
       "      <td>41.0</td>\n",
       "      <td>155</td>\n",
       "    </tr>\n",
       "    <tr>\n",
       "      <th>C</th>\n",
       "      <td>1843</td>\n",
       "      <td>1646</td>\n",
       "      <td>51</td>\n",
       "      <td>21.0</td>\n",
       "      <td>197</td>\n",
       "    </tr>\n",
       "  </tbody>\n",
       "</table>\n",
       "</div>"
      ],
      "text/plain": [
       "      demand actual_outbound inventory_level        unmet_demand\n",
       "         sum             sum             max   mean          sum\n",
       "class                                                           \n",
       "A       8212            8177             335  157.0           35\n",
       "B       3680            3525              98   41.0          155\n",
       "C       1843            1646              51   21.0          197"
      ]
     },
     "execution_count": 29,
     "metadata": {},
     "output_type": "execute_result"
    }
   ],
   "source": [
    "high_long_jit_df.groupby(\"class\").agg({\"demand\": \"sum\", \"actual_outbound\": \"sum\", \"inventory_level\": [\"max\", \"mean\"], \"unmet_demand\": \"sum\"}).round()"
   ]
  },
  {
   "cell_type": "markdown",
   "id": "98a50a89-f3e9-4c94-8cf5-e77cb83ea4e5",
   "metadata": {},
   "source": [
    "When the reorder point is raised, demand is met more consistently, but we at the expense of maintaining a lean inventory. This effectively transforms the JIT model into a hybrid model, often refered to as **JIT with safety stock**. \n",
    "\n",
    "The same principle also applies to weekly scheduled deliveries. By ordering excess stock each week, businesses can mitigate the risk of stock outs caused by long lead times by stocking more inventory. These adaptations show that while a long lead time introduces risk, it can be reduced by introducing buffering strategies, such as raising the reordering point or maintaining safety stock. This trades a lean inventory for more consistently meeting the demand. "
   ]
  },
  {
   "cell_type": "markdown",
   "id": "df230635-8e37-4f53-9792-95b81ecd2dfe",
   "metadata": {},
   "source": [
    "## Final product-level dataset\n",
    "\n",
    "We will return to the original two dataframes with the default lead time of 3 days.\n",
    "\n",
    "First, merge the two dataframes to make a combined dataframe containing all of the information:\n"
   ]
  },
  {
   "cell_type": "code",
   "execution_count": 30,
   "id": "24572c81-5ce0-47ae-b536-0b09b0058542",
   "metadata": {},
   "outputs": [],
   "source": [
    "common_columns = [\"date\", \"product_id\", \"warehouse_id\", \"class\", \"demand\", \"seven_day_average\"]\n",
    "combined_df = pd.merge(weekly_df, jit_df, how=\"left\", on=common_columns, suffixes=(\"_weekly\", \"_jit\"))"
   ]
  },
  {
   "cell_type": "markdown",
   "id": "33e6e2b0-f3e7-4d7b-bb37-151fbae980da",
   "metadata": {},
   "source": [
    "Keep the relevant columns, <code>class</code> is already recorded in the product dimension table, and <code>seven_day_average</code> is a calculated column that was only used for forecasting in the weekly scheduled orders table.\n",
    "\n",
    "Reorder the columns in a logical way:"
   ]
  },
  {
   "cell_type": "code",
   "execution_count": 31,
   "id": "aca732ec-d0d4-4885-9dba-0abbc6cbe59f",
   "metadata": {},
   "outputs": [],
   "source": [
    "ordered_columns = [\"date\",\n",
    "                   \"product_id\",\n",
    "                   \"warehouse_id\",\n",
    "                   \"demand\",\n",
    "                   \"inbound_units_weekly\",\n",
    "                   \"actual_outbound_weekly\",\n",
    "                   \"inventory_level_weekly\",\n",
    "                   \"unmet_demand_weekly\",\n",
    "                   \"stockout_flag_weekly\",\n",
    "                   \"inbound_units_jit\",\n",
    "                   \"actual_outbound_jit\",\n",
    "                   \"inventory_level_jit\",\n",
    "                   \"unmet_demand_jit\",\n",
    "                   \"stockout_flag_jit\",]"
   ]
  },
  {
   "cell_type": "code",
   "execution_count": 32,
   "id": "6f252985-7ced-4256-aa8a-63cdb540b57f",
   "metadata": {},
   "outputs": [],
   "source": [
    "combined_df = combined_df[ordered_columns]"
   ]
  },
  {
   "cell_type": "markdown",
   "id": "5c85363e-f163-42e4-8fe5-cf08666ea16e",
   "metadata": {},
   "source": [
    "By aggregating the combined product-level data by day, we can generate the basis for a dataset that reflects the daily operational performance of the warehouse, including number of inbound and outbound shipments.\n",
    "\n",
    "Save the combined dataframe to use in the next part of the project:"
   ]
  },
  {
   "cell_type": "code",
   "execution_count": 33,
   "id": "6b5b1687-59e3-451b-a7ca-237fc4042e2b",
   "metadata": {},
   "outputs": [],
   "source": [
    "combined_df.to_csv(\"../data/warehouse_products.csv\", index=False)"
   ]
  },
  {
   "cell_type": "markdown",
   "id": "99a701ff-12ad-47fe-b7f3-770ad862c1cb",
   "metadata": {},
   "source": [
    "## Navigation\n",
    "\n",
    "[Part 2 - Warehouse Analytics](02_warehouse_analytics.ipynb)"
   ]
  }
 ],
 "metadata": {
  "kernelspec": {
   "display_name": "Python 3 (ipykernel)",
   "language": "python",
   "name": "python3"
  },
  "language_info": {
   "codemirror_mode": {
    "name": "ipython",
    "version": 3
   },
   "file_extension": ".py",
   "mimetype": "text/x-python",
   "name": "python",
   "nbconvert_exporter": "python",
   "pygments_lexer": "ipython3",
   "version": "3.10.11"
  }
 },
 "nbformat": 4,
 "nbformat_minor": 5
}
