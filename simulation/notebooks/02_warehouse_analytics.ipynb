{
 "cells": [
  {
   "cell_type": "markdown",
   "id": "7a3d2f6f-875b-47ab-80d5-c380b1a81ed6",
   "metadata": {},
   "source": [
    "# Part 2 - Warehouse Analytics\n",
    "\n",
    "Building on the simulated product-level data generated in the [previous notebook](01_stock_simulation.ipynb), this section aggregates across all product IDs to provide a daily view of warehouse operations. This allows us to evaluate staffing needs, delivery patterns and operational costs at an operational level.\n",
    "\n",
    "In this section, we will examine for each day:\n",
    "\n",
    "- Total number of items entering the warehouse.\n",
    "- Total number of items leaving the warehouse.\n",
    "- The total inventory levels across all product IDs.\n",
    "- The total number of orders that went unfulfiled.\n",
    "- Total inbound and outbound shipments.\n",
    "- Truck and van utilization.\n",
    "- Workers needed to meet demand.\n",
    "- Simulated human errors. \n",
    "\n",
    "We will consider these metrics for both replenishment strategies, weekly scheduled and JIT deliveries, to allow for a more robust comparison.\n",
    "\n",
    "\n",
    "## Set-up\n",
    "\n",
    "Import the required modules and the product-level dataset:"
   ]
  },
  {
   "cell_type": "code",
   "execution_count": 1,
   "id": "554e0a9d-a79b-439d-83bf-518e078771d8",
   "metadata": {},
   "outputs": [],
   "source": [
    "import pandas as pd\n",
    "import numpy as np\n",
    "import math\n",
    "\n",
    "products_df = pd.read_csv(\"../data/warehouse_products.csv\")"
   ]
  },
  {
   "cell_type": "markdown",
   "id": "92b356b6-d238-4310-bf55-147aa9c5652c",
   "metadata": {},
   "source": [
    "Select only the relevant columns:"
   ]
  },
  {
   "cell_type": "code",
   "execution_count": 2,
   "id": "3c4fae78-c2e3-4109-b2e8-66e35ba4c9c5",
   "metadata": {},
   "outputs": [],
   "source": [
    "selected_columns = [\"date\",\n",
    "                    \"warehouse_id\",\n",
    "                    \"inbound_units_weekly\",\n",
    "                    \"actual_outbound_weekly\",\n",
    "                    \"inventory_level_weekly\",\n",
    "                    \"unmet_demand_weekly\",\n",
    "                    \"inbound_units_jit\",\n",
    "                    \"actual_outbound_jit\",\n",
    "                    \"inventory_level_jit\",\n",
    "                    \"unmet_demand_jit\"]\n",
    "\n",
    "df = products_df[selected_columns]"
   ]
  },
  {
   "cell_type": "markdown",
   "id": "8a4014c5-4b27-4508-890a-eff6f6288db3",
   "metadata": {},
   "source": [
    "Aggregate the columns by grouping by both date and warehouse ID:"
   ]
  },
  {
   "cell_type": "code",
   "execution_count": 3,
   "id": "ce3fde63-7078-46a7-91db-f822e6abc69c",
   "metadata": {},
   "outputs": [],
   "source": [
    "group_df = df.groupby([\"date\", \"warehouse_id\"])\n",
    "\n",
    "group_df = group_df.agg({\n",
    "    \"inbound_units_weekly\": \"sum\",\n",
    "    \"actual_outbound_weekly\": \"sum\",\n",
    "    \"inventory_level_weekly\": \"sum\",\n",
    "    \"unmet_demand_weekly\": \"sum\",\n",
    "    \"inbound_units_jit\": \"sum\",\n",
    "    \"actual_outbound_jit\": \"sum\",\n",
    "    \"inventory_level_jit\": \"sum\",\n",
    "    \"unmet_demand_jit\": \"sum\"})\n",
    "\n",
    "group_df = group_df.reset_index()"
   ]
  },
  {
   "cell_type": "markdown",
   "id": "df44dd35-7c35-44ee-88ba-ad58bac42111",
   "metadata": {},
   "source": [
    "Rename the aggregated columns to more appropriate names:"
   ]
  },
  {
   "cell_type": "code",
   "execution_count": 4,
   "id": "6d240686-7c0c-49ed-8e36-30e651313a57",
   "metadata": {},
   "outputs": [],
   "source": [
    "group_df = group_df.rename(columns={\n",
    "    \"actual_outbound_weekly\": \"orders_fulfilled_weekly\",\n",
    "    \"unmet_demand_weekly\": \"missed_sales_weekly\",\n",
    "    \"actual_outbound_jit\": \"orders_fulfilled_jit\",\n",
    "    \"unmet_demand_jit\": \"missed_sales_jit\"\n",
    "})"
   ]
  },
  {
   "cell_type": "markdown",
   "id": "3a9e4697-49ba-418f-b03d-3b64100162d4",
   "metadata": {},
   "source": [
    "We have aggregated the data from the previous dataframe to give a high level overview of the warehouse operations.\n",
    "\n",
    "The dataframe is structured as follows:"
   ]
  },
  {
   "cell_type": "code",
   "execution_count": 5,
   "id": "88c6dcd8-cf08-4c4b-95cd-912886dddad4",
   "metadata": {},
   "outputs": [
    {
     "data": {
      "text/html": [
       "<div>\n",
       "<style scoped>\n",
       "    .dataframe tbody tr th:only-of-type {\n",
       "        vertical-align: middle;\n",
       "    }\n",
       "\n",
       "    .dataframe tbody tr th {\n",
       "        vertical-align: top;\n",
       "    }\n",
       "\n",
       "    .dataframe thead th {\n",
       "        text-align: right;\n",
       "    }\n",
       "</style>\n",
       "<table border=\"1\" class=\"dataframe\">\n",
       "  <thead>\n",
       "    <tr style=\"text-align: right;\">\n",
       "      <th></th>\n",
       "      <th>date</th>\n",
       "      <th>warehouse_id</th>\n",
       "      <th>inbound_units_weekly</th>\n",
       "      <th>orders_fulfilled_weekly</th>\n",
       "      <th>inventory_level_weekly</th>\n",
       "      <th>missed_sales_weekly</th>\n",
       "      <th>inbound_units_jit</th>\n",
       "      <th>orders_fulfilled_jit</th>\n",
       "      <th>inventory_level_jit</th>\n",
       "      <th>missed_sales_jit</th>\n",
       "    </tr>\n",
       "  </thead>\n",
       "  <tbody>\n",
       "    <tr>\n",
       "      <th>0</th>\n",
       "      <td>2024-01-01</td>\n",
       "      <td>WH1</td>\n",
       "      <td>0</td>\n",
       "      <td>188</td>\n",
       "      <td>1662</td>\n",
       "      <td>0</td>\n",
       "      <td>0</td>\n",
       "      <td>188</td>\n",
       "      <td>1662</td>\n",
       "      <td>0</td>\n",
       "    </tr>\n",
       "    <tr>\n",
       "      <th>1</th>\n",
       "      <td>2024-01-02</td>\n",
       "      <td>WH1</td>\n",
       "      <td>0</td>\n",
       "      <td>171</td>\n",
       "      <td>1491</td>\n",
       "      <td>0</td>\n",
       "      <td>0</td>\n",
       "      <td>171</td>\n",
       "      <td>1491</td>\n",
       "      <td>0</td>\n",
       "    </tr>\n",
       "    <tr>\n",
       "      <th>2</th>\n",
       "      <td>2024-01-03</td>\n",
       "      <td>WH1</td>\n",
       "      <td>0</td>\n",
       "      <td>191</td>\n",
       "      <td>1300</td>\n",
       "      <td>0</td>\n",
       "      <td>0</td>\n",
       "      <td>191</td>\n",
       "      <td>1300</td>\n",
       "      <td>0</td>\n",
       "    </tr>\n",
       "    <tr>\n",
       "      <th>3</th>\n",
       "      <td>2024-01-04</td>\n",
       "      <td>WH1</td>\n",
       "      <td>0</td>\n",
       "      <td>188</td>\n",
       "      <td>1112</td>\n",
       "      <td>0</td>\n",
       "      <td>0</td>\n",
       "      <td>188</td>\n",
       "      <td>1112</td>\n",
       "      <td>0</td>\n",
       "    </tr>\n",
       "    <tr>\n",
       "      <th>4</th>\n",
       "      <td>2024-01-05</td>\n",
       "      <td>WH1</td>\n",
       "      <td>0</td>\n",
       "      <td>239</td>\n",
       "      <td>873</td>\n",
       "      <td>0</td>\n",
       "      <td>0</td>\n",
       "      <td>239</td>\n",
       "      <td>873</td>\n",
       "      <td>0</td>\n",
       "    </tr>\n",
       "  </tbody>\n",
       "</table>\n",
       "</div>"
      ],
      "text/plain": [
       "         date warehouse_id  inbound_units_weekly  orders_fulfilled_weekly  \\\n",
       "0  2024-01-01          WH1                     0                      188   \n",
       "1  2024-01-02          WH1                     0                      171   \n",
       "2  2024-01-03          WH1                     0                      191   \n",
       "3  2024-01-04          WH1                     0                      188   \n",
       "4  2024-01-05          WH1                     0                      239   \n",
       "\n",
       "   inventory_level_weekly  missed_sales_weekly  inbound_units_jit  \\\n",
       "0                    1662                    0                  0   \n",
       "1                    1491                    0                  0   \n",
       "2                    1300                    0                  0   \n",
       "3                    1112                    0                  0   \n",
       "4                     873                    0                  0   \n",
       "\n",
       "   orders_fulfilled_jit  inventory_level_jit  missed_sales_jit  \n",
       "0                   188                 1662                 0  \n",
       "1                   171                 1491                 0  \n",
       "2                   191                 1300                 0  \n",
       "3                   188                 1112                 0  \n",
       "4                   239                  873                 0  "
      ]
     },
     "execution_count": 5,
     "metadata": {},
     "output_type": "execute_result"
    }
   ],
   "source": [
    "group_df.head()"
   ]
  },
  {
   "cell_type": "markdown",
   "id": "34aa5e3d-7af5-4bd6-ab1c-b98bc1386152",
   "metadata": {},
   "source": [
    "## Warehouse Operations\n",
    "\n",
    "Based on the aggregated data, we can model additional aspects of warehouse operations, including inbound and outbound shipments, as well as total warehouse utilization. These metrics are highly informative when assessing the cost-to-serve and carbon footprint of each replenishment strategy and play a key role in the overall decision making. "
   ]
  },
  {
   "cell_type": "markdown",
   "id": "c6b34674-927f-4450-b237-384eb2b99815",
   "metadata": {},
   "source": [
    "### Outbound Shipments\n",
    "\n",
    "Every day, customers orders are dispatched from the warehouse and delivered by vans, each with a maximum capacity of 100 products. In the model, there are always enough vans to meet demand. This  represents a flexible contractor system, where vans are hired as needed, with each contractor providing their own vehicle.\n",
    "\n",
    "Here, there are some limitations to the simulation that are contrary to reality. In practice, businesses operate with a fixed fleet size, and exceeding capacity may incur additional costs, delayed dispatch or only partial fulfilment.\n",
    "\n",
    "The other assumption is that orders are shipped the same day, no matter how poorly the vans may be utilized. In reality, most operations may defer marginal excess orders (e.g. 101 units requires a second van) to the next day to maximize van utilization and minimize costs. A more refined model should incorporate queuing or consolidation logic to improve realism and strengthen any insights gained."
   ]
  },
  {
   "cell_type": "code",
   "execution_count": 6,
   "id": "d9c49cb5-5296-400d-bf6a-8822b50d32f2",
   "metadata": {},
   "outputs": [],
   "source": [
    "van_capacity = 100\n",
    "group_df[\"outbound_shipments_weekly\"] = group_df[\"orders_fulfilled_weekly\"] / van_capacity\n",
    "group_df[\"outbound_shipments_jit\"] = group_df[\"orders_fulfilled_jit\"] / van_capacity\n",
    "\n",
    "group_df[\"outbound_shipments_weekly\"] = group_df[\"outbound_shipments_weekly\"].apply(np.ceil).astype(\"int\")\n",
    "group_df[\"outbound_shipments_jit\"] = group_df[\"outbound_shipments_jit\"].apply(np.ceil).astype(\"int\")"
   ]
  },
  {
   "cell_type": "markdown",
   "id": "6877eb7f-dd2b-435f-9541-02e02e4e1228",
   "metadata": {},
   "source": [
    "Calculate van utilization for each strategy:"
   ]
  },
  {
   "cell_type": "code",
   "execution_count": 7,
   "id": "f7535d73-2081-4654-b612-7cdabdf85384",
   "metadata": {},
   "outputs": [],
   "source": [
    "group_df[\"van_utilization_weekly\"] = group_df[\"orders_fulfilled_weekly\"] / (group_df[\"outbound_shipments_weekly\"] * van_capacity)\n",
    "group_df[\"van_utilization_jit\"] = group_df[\"orders_fulfilled_jit\"] / (group_df[\"outbound_shipments_jit\"] * van_capacity)"
   ]
  },
  {
   "cell_type": "markdown",
   "id": "bd5ccbeb-f5ac-4546-8007-67af08f5af84",
   "metadata": {},
   "source": [
    "### Inbound Shipments\n",
    "\n",
    "We can also simulate inbound shipments used for stock replenishment. The type of vehicle depends on the replenishment strategy being used: large more economical trucks are used for consolidated weekly deliveries, whereas smaller more agile trucks are used to replenish stock under the JIT strategy.\n",
    "\n",
    "This difference has important implications for both cost and environmental impact. The larger trucks are more fuel-efficient per unit when fully loaded, while smaller trucks may result in higher costs and emission due to their reduced carrying capacity.\n",
    "\n",
    "Again, we encounter the same limitation in this model. In practice, logistics operations often defer low-volume orders and consolidate them into shared or later shipments. This greatly improves truck utilization at the expense of small delays. This strategy is not currently modeled in the simulation but may be explored in future versions to improve realism and accuracy.\n",
    "\n",
    "Calculate the inbound shipments and truck utilization for weekly scheduled deliveries (1000 units per truck):"
   ]
  },
  {
   "cell_type": "code",
   "execution_count": 8,
   "id": "59f633df-ea67-4cea-9b10-7699df9c8bab",
   "metadata": {},
   "outputs": [],
   "source": [
    "large_truck_capacity = 1000\n",
    "\n",
    "group_df[\"inbound_shipments_weekly\"] = group_df[\"inbound_units_weekly\"] / large_truck_capacity\n",
    "group_df[\"inbound_shipments_weekly\"] = group_df[\"inbound_shipments_weekly\"].apply(np.ceil).astype(\"int\")\n",
    "group_df[\"truck_utilization_weekly\"] = group_df[\"inbound_units_weekly\"] / (group_df[\"inbound_shipments_weekly\"] * large_truck_capacity)"
   ]
  },
  {
   "cell_type": "markdown",
   "id": "83ab69e6-481f-48d2-bc23-22a2ed7cd648",
   "metadata": {},
   "source": [
    "Calculate the inbound shipments for JIT deliveries (500 units per truck):"
   ]
  },
  {
   "cell_type": "code",
   "execution_count": 9,
   "id": "90a84564-2281-49db-9997-7f2e93b57276",
   "metadata": {},
   "outputs": [],
   "source": [
    "small_truck_capacity = 500\n",
    "\n",
    "group_df[\"inbound_shipments_jit\"] = group_df[\"inbound_units_jit\"] / small_truck_capacity\n",
    "group_df[\"inbound_shipments_jit\"] = group_df[\"inbound_shipments_jit\"].apply(np.ceil).astype(\"int\")\n",
    "group_df[\"truck_utilization_jit\"] = group_df[\"inbound_units_jit\"] / (group_df[\"inbound_shipments_jit\"] * small_truck_capacity)"
   ]
  },
  {
   "cell_type": "markdown",
   "id": "a683a408-8dec-4f3b-a5f8-d567b01b43a9",
   "metadata": {},
   "source": [
    "### Warehouse Utilization\n",
    "\n",
    "Finally, we can model warehouse utilization, how much storage space is currently occupied. In the simulation, we assume that each item is the same size, therefore the current utilization can be calculated by dividing the total inventory by the warehouse capacity which is set at 2000 units.\n",
    "\n",
    "In practice, optimal warehouse utilization is normally somewhere between 70 and 85%, balancing efficient use of space with robust safety stock that can respond to surges in demand and prevent congestion. Consistently running below this capacity may indicate excess storage, and running above this can lead to bottlenecks and reduced responsiveness making this an important metric to track. "
   ]
  },
  {
   "cell_type": "code",
   "execution_count": 10,
   "id": "40e682e4-4c37-471d-bc0b-a2a74a5a60b8",
   "metadata": {},
   "outputs": [],
   "source": [
    "warehouse_capacity = 2000\n",
    "\n",
    "group_df[\"warehouse_utilization_weekly\"] = group_df[\"inventory_level_weekly\"] / warehouse_capacity\n",
    "group_df[\"warehouse_utilization_jit\"] = group_df[\"inventory_level_jit\"] / warehouse_capacity"
   ]
  },
  {
   "cell_type": "markdown",
   "id": "6f3be7d1-e9b3-4995-93df-ed50745c9949",
   "metadata": {},
   "source": [
    "## Staffing and Human Factors\n",
    "\n",
    "In addition to the core warehouse operations, we can also model the human side of logistics, such as the number of operatives required and any operational errors they may introduce. By tracking these human-centric metrics, we can gain a more robust view of the cost-to-serve and potential bottlenecks within the two replenishment strategies."
   ]
  },
  {
   "cell_type": "markdown",
   "id": "724f0555-97ca-4adc-af52-f488e37a83b6",
   "metadata": {},
   "source": [
    "### Staff Count\n",
    "\n",
    "The number of operatives working each day in the warehouse is determined by the number orders being processed.\n",
    "\n",
    "For optimal efficiency, we aim to have one worker scheduled for every fifty orders. However, to reflect staffing limitations, the maximum number of workers is capped at 5 and calculated by the <code>floor</code> function rather than rounding up. This models a lean staffing approach, where occassional periods of excess workload leads to an increased likelihood of staff errors.\n",
    "\n",
    "To further reflect operational staffing policies, there are always at least two workers scheduled to ensure flexibility and safety."
   ]
  },
  {
   "cell_type": "code",
   "execution_count": 11,
   "id": "50429d2c-30c5-47da-b1ef-3ff17b00f476",
   "metadata": {},
   "outputs": [],
   "source": [
    "def determine_staff_count(row, outbound_column):\n",
    "    outbound_orders = row[outbound_column]\n",
    "    workers_needed = math.floor(outbound_orders / 50)\n",
    "    return min(max(workers_needed, 2), 5)\n",
    "\n",
    "group_df[\"staff_count_weekly\"] = group_df.apply(determine_staff_count, args=(\"orders_fulfilled_weekly\",), axis=1)\n",
    "group_df[\"staff_count_jit\"] = group_df.apply(determine_staff_count, args=(\"orders_fulfilled_jit\",), axis=1)"
   ]
  },
  {
   "cell_type": "markdown",
   "id": "d80ca7cc-c2b9-406f-a274-eb564f85435b",
   "metadata": {},
   "source": [
    "### Human Error\n",
    "\n",
    "Human error represents any avoidable mistakes that an operative may make during their shift, such as mispicks or damage to property. In the current model, these mistakes incur additional costs, but do not delay shipments or destroy inventory.\n",
    "\n",
    "To ensure consistent comparisons between the two strategies, human errors are simulated deterministically based on workload rather than randomly generated. This approach reflects how additional pressure on staff can lead to more mistakes without introducing a random element to the results. "
   ]
  },
  {
   "cell_type": "code",
   "execution_count": 12,
   "id": "38ba5083-c252-446f-983c-c5625cee9bb0",
   "metadata": {},
   "outputs": [],
   "source": [
    "def determine_expected_errors(row, outbound_column, staff_column):\n",
    "    orders = row[outbound_column]\n",
    "    staff = row[staff_column]\n",
    "\n",
    "    # null case with no orders and staff:\n",
    "    if orders == 0 or staff == 0:\n",
    "        return 0\n",
    "\n",
    "    # Assume a 1% error rate under normal conditions:\n",
    "    base_error_rate = 0.01\n",
    "    \n",
    "    # Scale error rate by how much over or under 50 orders per worker\n",
    "    orders_per_worker = orders / staff\n",
    "    error_rate_multiplier = orders_per_worker / 50\n",
    "\n",
    "    # Not more than 5% errors on one day\n",
    "    total_error_rate = min(base_error_rate * error_rate_multiplier, 0.05)\n",
    "\n",
    "    # multiply expected error % by orders to get the number of errors\n",
    "    expected_errors = total_error_rate * orders\n",
    "\n",
    "    return int(expected_errors)"
   ]
  },
  {
   "cell_type": "code",
   "execution_count": 13,
   "id": "4d8f0abf-9b58-400a-8c70-cfa407e131c0",
   "metadata": {},
   "outputs": [],
   "source": [
    "group_df[\"errors_weekly\"] = group_df.apply(determine_expected_errors, args=(\"orders_fulfilled_weekly\", \"staff_count_weekly\"), axis=1)\n",
    "group_df[\"errors_jit\"] = group_df.apply(determine_expected_errors, args=(\"orders_fulfilled_jit\", \"staff_count_jit\"), axis=1)"
   ]
  },
  {
   "cell_type": "markdown",
   "id": "6cadd0c7-4198-4367-ab70-4c59981ba57c",
   "metadata": {},
   "source": [
    "## Final Warehouse-level Dataset\n",
    "\n",
    "Save the completed dataset as CSV:"
   ]
  },
  {
   "cell_type": "code",
   "execution_count": 14,
   "id": "32656e8e-f40a-4482-b65a-a9a1b097fe2f",
   "metadata": {},
   "outputs": [],
   "source": [
    "group_df.to_csv(\"../data/warehouse_daily.csv\", index=False)"
   ]
  },
  {
   "cell_type": "markdown",
   "id": "f718770c-e735-4009-86a0-000f2e4ad64b",
   "metadata": {},
   "source": [
    "In the next notebook, we will load the newly created fact tables and dimension tables into a SQL database."
   ]
  },
  {
   "cell_type": "markdown",
   "id": "552d1975-acec-4a33-9a7d-3c9501e8fab6",
   "metadata": {},
   "source": [
    "## Navigation\n",
    "\n",
    "[Part 1 - Stock Simulation](01_stock_simulation.ipynb)\n",
    "\n",
    "[Part 3 - Loading Data](03_loading_data.ipynb)"
   ]
  }
 ],
 "metadata": {
  "kernelspec": {
   "display_name": "Python 3 (ipykernel)",
   "language": "python",
   "name": "python3"
  },
  "language_info": {
   "codemirror_mode": {
    "name": "ipython",
    "version": 3
   },
   "file_extension": ".py",
   "mimetype": "text/x-python",
   "name": "python",
   "nbconvert_exporter": "python",
   "pygments_lexer": "ipython3",
   "version": "3.10.11"
  }
 },
 "nbformat": 4,
 "nbformat_minor": 5
}
